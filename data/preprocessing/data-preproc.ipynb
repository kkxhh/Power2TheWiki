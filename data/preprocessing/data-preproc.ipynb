{
 "cells": [
  {
   "cell_type": "code",
   "execution_count": 1,
   "metadata": {},
   "outputs": [],
   "source": [
    "import codecs\n",
    "import csv\n",
    "import time\n",
    "import os\n",
    "import re\n",
    "import gzip\n",
    "import pandas as pd\n",
    "import numpy as np"
   ]
  },
  {
   "cell_type": "code",
   "execution_count": 2,
   "metadata": {},
   "outputs": [],
   "source": [
    "PATH_TO_DATA = 'Data/'\n",
    "PATH_TO_DATA_EN = PATH_TO_DATA+\"enwiki/\"\n",
    "PATH_TO_DATA_UK = PATH_TO_DATA+\"ukwiki/\""
   ]
  },
  {
   "cell_type": "code",
   "execution_count": 3,
   "metadata": {},
   "outputs": [],
   "source": [
    "ENWIKI_ART_FNMS = []\n",
    "for file in os.listdir(PATH_TO_DATA_EN):\n",
    "    if re.match(r\"enwiki-20180620-pages-meta-current\\d{2}-p\\d+p\\d+.xml_art.csv.gz\", file):\n",
    "        ENWIKI_ART_FNMS.append(file)\n",
    "ENWIKI_RED_FNMS = []\n",
    "for file in os.listdir(PATH_TO_DATA_EN):\n",
    "    if re.match(r\"enwiki-20180620-pages-meta-current\\d{2}-p\\d+p\\d+.xml_red.csv.gz\", file):\n",
    "        ENWIKI_RED_FNMS.append(file)        "
   ]
  },
  {
   "cell_type": "code",
   "execution_count": 4,
   "metadata": {},
   "outputs": [],
   "source": [
    "def unpack(file_name):\n",
    "    file_name_new = file_name.replace(\".gz\",\"\")\n",
    "    with gzip.open(file_name, 'rb') as f_in, open(file_name_new, 'wb') as f_out:\n",
    "        f_out.writelines(f_in)\n",
    "    return file_name_new"
   ]
  },
  {
   "cell_type": "code",
   "execution_count": 5,
   "metadata": {},
   "outputs": [],
   "source": [
    "def pack_and_remove(file_name):\n",
    "    file_name_new = file_name+'.gz'\n",
    "    with open(file_name, 'rb') as f_in, gzip.open(file_name_new, 'wb') as f_out:\n",
    "        f_out.writelines(f_in)\n",
    "    os.remove(file_name)\n",
    "    return file_name_new"
   ]
  },
  {
   "cell_type": "code",
   "execution_count": 31,
   "metadata": {},
   "outputs": [
    {
     "name": "stdout",
     "output_type": "stream",
     "text": [
      "Data/enwiki/enwiki-20180620-pages-meta-current01-p10p30303.xml_art.csv.gz\n"
     ]
    },
    {
     "name": "stderr",
     "output_type": "stream",
     "text": [
      "c:\\users\\mgontar.artfulbits\\appdata\\local\\continuum\\anaconda3\\envs\\p2tw\\lib\\site-packages\\IPython\\core\\interactiveshell.py:2785: DtypeWarning: Columns (2) have mixed types. Specify dtype option on import or set low_memory=False.\n",
      "  interactivity=interactivity, compiler=compiler, result=result)\n"
     ]
    },
    {
     "name": "stdout",
     "output_type": "stream",
     "text": [
      "df_id_name.size size: 30096\n",
      "Data/enwiki/enwiki-20180620-pages-meta-current02-p30304p88444.xml_art.csv.gz\n",
      "df_id_name.size size: 83772\n",
      "Data/enwiki/enwiki-20180620-pages-meta-current03-p88445p200507.xml_art.csv.gz\n",
      "df_id_name.size size: 214820\n",
      "Data/enwiki/enwiki-20180620-pages-meta-current04-p200511p352689.xml_art.csv.gz\n",
      "df_id_name.size size: 313050\n",
      "Data/enwiki/enwiki-20180620-pages-meta-current05-p352690p565313.xml_art.csv.gz\n",
      "df_id_name.size size: 443036\n",
      "Data/enwiki/enwiki-20180620-pages-meta-current06-p565314p892912.xml_art.csv.gz\n",
      "df_id_name.size size: 599436\n",
      "Data/enwiki/enwiki-20180620-pages-meta-current07-p892914p1268691.xml_art.csv.gz\n",
      "df_id_name.size size: 781112\n",
      "Data/enwiki/enwiki-20180620-pages-meta-current08-p1268692p1791079.xml_art.csv.gz\n",
      "df_id_name.size size: 991336\n",
      "Data/enwiki/enwiki-20180620-pages-meta-current09-p1791080p2336422.xml_art.csv.gz\n",
      "df_id_name.size size: 1204988\n",
      "Data/enwiki/enwiki-20180620-pages-meta-current10-p2336425p3046511.xml_art.csv.gz\n",
      "df_id_name.size size: 1451314\n",
      "Data/enwiki/enwiki-20180620-pages-meta-current11-p3046514p3926861.xml_art.csv.gz\n",
      "df_id_name.size size: 1717802\n",
      "Data/enwiki/enwiki-20180620-pages-meta-current12-p3926863p5040436.xml_art.csv.gz\n",
      "df_id_name.size size: 2008732\n",
      "Data/enwiki/enwiki-20180620-pages-meta-current13-p5040438p6197594.xml_art.csv.gz\n",
      "df_id_name.size size: 2304516\n",
      "Data/enwiki/enwiki-20180620-pages-meta-current14-p6197598p7697598.xml_art.csv.gz\n",
      "df_id_name.size size: 2619678\n",
      "Data/enwiki/enwiki-20180620-pages-meta-current14-p7697598p7744799.xml_art.csv.gz\n",
      "df_id_name.size size: 2628782\n",
      "Data/enwiki/enwiki-20180620-pages-meta-current15-p7744803p9244803.xml_art.csv.gz\n",
      "df_id_name.size size: 2910058\n",
      "Data/enwiki/enwiki-20180620-pages-meta-current15-p9244803p9518048.xml_art.csv.gz\n",
      "df_id_name.size size: 2958708\n",
      "Data/enwiki/enwiki-20180620-pages-meta-current16-p11018050p11539266.xml_art.csv.gz\n",
      "df_id_name.size size: 3051460\n",
      "Data/enwiki/enwiki-20180620-pages-meta-current16-p9518050p11018050.xml_art.csv.gz\n",
      "df_id_name.size size: 3290160\n",
      "Data/enwiki/enwiki-20180620-pages-meta-current17-p11539268p13039268.xml_art.csv.gz\n",
      "df_id_name.size size: 3635586\n",
      "Data/enwiki/enwiki-20180620-pages-meta-current17-p13039268p13693071.xml_art.csv.gz\n",
      "df_id_name.size size: 3760964\n",
      "Data/enwiki/enwiki-20180620-pages-meta-current18-p13693074p15193074.xml_art.csv.gz\n",
      "df_id_name.size size: 4032920\n",
      "Data/enwiki/enwiki-20180620-pages-meta-current18-p15193074p16120542.xml_art.csv.gz\n",
      "df_id_name.size size: 4228740\n",
      "Data/enwiki/enwiki-20180620-pages-meta-current19-p16120543p17620543.xml_art.csv.gz\n",
      "df_id_name.size size: 4453516\n",
      "Data/enwiki/enwiki-20180620-pages-meta-current19-p17620543p18754735.xml_art.csv.gz\n",
      "df_id_name.size size: 4668674\n",
      "Data/enwiki/enwiki-20180620-pages-meta-current20-p18754736p20254736.xml_art.csv.gz\n",
      "df_id_name.size size: 4956518\n",
      "Data/enwiki/enwiki-20180620-pages-meta-current20-p20254736p21222156.xml_art.csv.gz\n",
      "df_id_name.size size: 5128620\n",
      "Data/enwiki/enwiki-20180620-pages-meta-current21-p21222158p22722158.xml_art.csv.gz\n",
      "df_id_name.size size: 5438940\n",
      "Data/enwiki/enwiki-20180620-pages-meta-current21-p22722158p23927983.xml_art.csv.gz\n",
      "df_id_name.size size: 5676408\n",
      "Data/enwiki/enwiki-20180620-pages-meta-current22-p23927984p25427984.xml_art.csv.gz\n",
      "df_id_name.size size: 5964084\n",
      "Data/enwiki/enwiki-20180620-pages-meta-current22-p25427984p26823660.xml_art.csv.gz\n",
      "df_id_name.size size: 6209956\n",
      "Data/enwiki/enwiki-20180620-pages-meta-current23-p26823661p28323661.xml_art.csv.gz\n",
      "df_id_name.size size: 6488104\n",
      "Data/enwiki/enwiki-20180620-pages-meta-current23-p28323661p29823661.xml_art.csv.gz\n",
      "df_id_name.size size: 6733714\n",
      "Data/enwiki/enwiki-20180620-pages-meta-current23-p29823661p30503449.xml_art.csv.gz\n",
      "df_id_name.size size: 6825158\n",
      "Data/enwiki/enwiki-20180620-pages-meta-current24-p30503451p32003451.xml_art.csv.gz\n",
      "df_id_name.size size: 7089196\n",
      "Data/enwiki/enwiki-20180620-pages-meta-current24-p32003451p33503451.xml_art.csv.gz\n",
      "df_id_name.size size: 7348718\n",
      "Data/enwiki/enwiki-20180620-pages-meta-current24-p33503451p33952815.xml_art.csv.gz\n",
      "df_id_name.size size: 7427506\n",
      "Data/enwiki/enwiki-20180620-pages-meta-current25-p33952816p35452816.xml_art.csv.gz\n",
      "df_id_name.size size: 7654470\n",
      "Data/enwiki/enwiki-20180620-pages-meta-current25-p35452816p36952816.xml_art.csv.gz\n",
      "df_id_name.size size: 7956864\n",
      "Data/enwiki/enwiki-20180620-pages-meta-current25-p36952816p38067202.xml_art.csv.gz\n",
      "df_id_name.size size: 8148096\n",
      "Data/enwiki/enwiki-20180620-pages-meta-current26-p38067203p39567203.xml_art.csv.gz\n",
      "df_id_name.size size: 8411310\n",
      "Data/enwiki/enwiki-20180620-pages-meta-current26-p39567203p41067203.xml_art.csv.gz\n",
      "df_id_name.size size: 8692840\n",
      "Data/enwiki/enwiki-20180620-pages-meta-current26-p41067203p42567203.xml_art.csv.gz\n",
      "df_id_name.size size: 8974696\n",
      "Data/enwiki/enwiki-20180620-pages-meta-current26-p42567203p42663461.xml_art.csv.gz\n",
      "df_id_name.size size: 8991512\n",
      "Data/enwiki/enwiki-20180620-pages-meta-current27-p42663462p44163462.xml_art.csv.gz\n",
      "df_id_name.size size: 9271504\n",
      "Data/enwiki/enwiki-20180620-pages-meta-current27-p44163462p45663462.xml_art.csv.gz\n",
      "df_id_name.size size: 9518256\n",
      "Data/enwiki/enwiki-20180620-pages-meta-current27-p45663462p47163462.xml_art.csv.gz\n",
      "df_id_name.size size: 9699570\n",
      "Data/enwiki/enwiki-20180620-pages-meta-current27-p47163462p48663462.xml_art.csv.gz\n",
      "df_id_name.size size: 9930652\n",
      "Data/enwiki/enwiki-20180620-pages-meta-current27-p48663462p50163462.xml_art.csv.gz\n",
      "df_id_name.size size: 10149676\n",
      "Data/enwiki/enwiki-20180620-pages-meta-current27-p50163462p51663462.xml_art.csv.gz\n",
      "df_id_name.size size: 10393704\n",
      "Data/enwiki/enwiki-20180620-pages-meta-current27-p51663462p53163462.xml_art.csv.gz\n",
      "df_id_name.size size: 10617450\n",
      "Data/enwiki/enwiki-20180620-pages-meta-current27-p53163462p54663462.xml_art.csv.gz\n",
      "df_id_name.size size: 10858298\n",
      "Data/enwiki/enwiki-20180620-pages-meta-current27-p54663462p56163462.xml_art.csv.gz\n",
      "df_id_name.size size: 11063924\n",
      "Data/enwiki/enwiki-20180620-pages-meta-current27-p56163462p57663462.xml_art.csv.gz\n",
      "df_id_name.size size: 11330428\n",
      "Data/enwiki/enwiki-20180620-pages-meta-current27-p57663462p57726175.xml_art.csv.gz\n",
      "df_id_name.size size: 11339740\n"
     ]
    }
   ],
   "source": [
    "df_id_name = None\n",
    "for fn in ENWIKI_ART_FNMS:\n",
    "    fn = PATH_TO_DATA_EN+fn\n",
    "    print(fn)\n",
    "    fn_new = unpack(fn)\n",
    "    df_articles = pd.read_csv(fn_new, encoding='ISO-8859-1', quotechar=\"\\\"\")\n",
    "    df_id_name_tmp = df_articles[['id', 'title']].drop_duplicates()\n",
    "    #print(\"df_id_name_tmp size: {}\".format(df_id_name_tmp.shape))\n",
    "    if df_id_name is not None:\n",
    "        df_id_name = df_id_name.append(df_id_name_tmp)        \n",
    "        #print(\"append\")\n",
    "    else:\n",
    "        df_id_name = df_id_name_tmp\n",
    "        #print(\"assign\")\n",
    "    print(\"df_id_name size: {}\".format(df_id_name.shape))\n",
    "    os.remove(fn_new)"
   ]
  },
  {
   "cell_type": "code",
   "execution_count": 34,
   "metadata": {},
   "outputs": [],
   "source": [
    "df_id_name = df_id_name.drop_duplicates()"
   ]
  },
  {
   "cell_type": "code",
   "execution_count": 35,
   "metadata": {},
   "outputs": [],
   "source": [
    "df_id_name.to_csv(PATH_TO_DATA_EN+'enwiki-20180620-id_name.csv', index = False, encoding='ISO-8859-1', quotechar=\"'\", escapechar =\"\\\\\", quoting=csv.QUOTE_NONNUMERIC)"
   ]
  },
  {
   "cell_type": "code",
   "execution_count": 75,
   "metadata": {},
   "outputs": [],
   "source": [
    "df_id_name = pd.read_csv(PATH_TO_DATA_EN+'enwiki-20180620-id_name.csv', encoding='ISO-8859-1', quotechar=\"'\", escapechar =\"\\\\\")"
   ]
  },
  {
   "cell_type": "code",
   "execution_count": 19,
   "metadata": {},
   "outputs": [
    {
     "name": "stdout",
     "output_type": "stream",
     "text": [
      "Data/enwiki/enwiki-20180620-pages-meta-current01-p10p30303.xml_art.csv.gz\n"
     ]
    },
    {
     "name": "stderr",
     "output_type": "stream",
     "text": [
      "c:\\users\\mgontar.artfulbits\\appdata\\local\\continuum\\anaconda3\\envs\\p2tw\\lib\\site-packages\\IPython\\core\\interactiveshell.py:2785: DtypeWarning: Columns (2) have mixed types. Specify dtype option on import or set low_memory=False.\n",
      "  interactivity=interactivity, compiler=compiler, result=result)\n"
     ]
    },
    {
     "name": "stdout",
     "output_type": "stream",
     "text": [
      "Data/enwiki/enwiki-20180620-pages-meta-current02-p30304p88444.xml_art.csv.gz\n",
      "Data/enwiki/enwiki-20180620-pages-meta-current03-p88445p200507.xml_art.csv.gz\n",
      "Data/enwiki/enwiki-20180620-pages-meta-current04-p200511p352689.xml_art.csv.gz\n",
      "Data/enwiki/enwiki-20180620-pages-meta-current05-p352690p565313.xml_art.csv.gz\n",
      "Data/enwiki/enwiki-20180620-pages-meta-current06-p565314p892912.xml_art.csv.gz\n",
      "Data/enwiki/enwiki-20180620-pages-meta-current07-p892914p1268691.xml_art.csv.gz\n",
      "Data/enwiki/enwiki-20180620-pages-meta-current08-p1268692p1791079.xml_art.csv.gz\n",
      "Data/enwiki/enwiki-20180620-pages-meta-current09-p1791080p2336422.xml_art.csv.gz\n",
      "Data/enwiki/enwiki-20180620-pages-meta-current10-p2336425p3046511.xml_art.csv.gz\n",
      "Data/enwiki/enwiki-20180620-pages-meta-current11-p3046514p3926861.xml_art.csv.gz\n",
      "Data/enwiki/enwiki-20180620-pages-meta-current12-p3926863p5040436.xml_art.csv.gz\n",
      "Data/enwiki/enwiki-20180620-pages-meta-current13-p5040438p6197594.xml_art.csv.gz\n",
      "Data/enwiki/enwiki-20180620-pages-meta-current14-p6197598p7697598.xml_art.csv.gz\n",
      "Data/enwiki/enwiki-20180620-pages-meta-current14-p7697598p7744799.xml_art.csv.gz\n",
      "Data/enwiki/enwiki-20180620-pages-meta-current15-p7744803p9244803.xml_art.csv.gz\n",
      "Data/enwiki/enwiki-20180620-pages-meta-current15-p9244803p9518048.xml_art.csv.gz\n",
      "Data/enwiki/enwiki-20180620-pages-meta-current16-p11018050p11539266.xml_art.csv.gz\n",
      "Data/enwiki/enwiki-20180620-pages-meta-current16-p9518050p11018050.xml_art.csv.gz\n",
      "Data/enwiki/enwiki-20180620-pages-meta-current17-p11539268p13039268.xml_art.csv.gz\n",
      "Data/enwiki/enwiki-20180620-pages-meta-current17-p13039268p13693071.xml_art.csv.gz\n",
      "Data/enwiki/enwiki-20180620-pages-meta-current18-p13693074p15193074.xml_art.csv.gz\n",
      "Data/enwiki/enwiki-20180620-pages-meta-current18-p15193074p16120542.xml_art.csv.gz\n",
      "Data/enwiki/enwiki-20180620-pages-meta-current19-p16120543p17620543.xml_art.csv.gz\n",
      "Data/enwiki/enwiki-20180620-pages-meta-current19-p17620543p18754735.xml_art.csv.gz\n",
      "Data/enwiki/enwiki-20180620-pages-meta-current20-p18754736p20254736.xml_art.csv.gz\n",
      "Data/enwiki/enwiki-20180620-pages-meta-current20-p20254736p21222156.xml_art.csv.gz\n",
      "Data/enwiki/enwiki-20180620-pages-meta-current21-p21222158p22722158.xml_art.csv.gz\n",
      "Data/enwiki/enwiki-20180620-pages-meta-current21-p22722158p23927983.xml_art.csv.gz\n",
      "Data/enwiki/enwiki-20180620-pages-meta-current22-p23927984p25427984.xml_art.csv.gz\n",
      "Data/enwiki/enwiki-20180620-pages-meta-current22-p25427984p26823660.xml_art.csv.gz\n",
      "Data/enwiki/enwiki-20180620-pages-meta-current23-p26823661p28323661.xml_art.csv.gz\n",
      "Data/enwiki/enwiki-20180620-pages-meta-current23-p28323661p29823661.xml_art.csv.gz\n",
      "Data/enwiki/enwiki-20180620-pages-meta-current23-p29823661p30503449.xml_art.csv.gz\n",
      "Data/enwiki/enwiki-20180620-pages-meta-current24-p30503451p32003451.xml_art.csv.gz\n",
      "Data/enwiki/enwiki-20180620-pages-meta-current24-p32003451p33503451.xml_art.csv.gz\n",
      "Data/enwiki/enwiki-20180620-pages-meta-current24-p33503451p33952815.xml_art.csv.gz\n",
      "Data/enwiki/enwiki-20180620-pages-meta-current25-p33952816p35452816.xml_art.csv.gz\n",
      "Data/enwiki/enwiki-20180620-pages-meta-current25-p35452816p36952816.xml_art.csv.gz\n",
      "Data/enwiki/enwiki-20180620-pages-meta-current25-p36952816p38067202.xml_art.csv.gz\n",
      "Data/enwiki/enwiki-20180620-pages-meta-current26-p38067203p39567203.xml_art.csv.gz\n",
      "Data/enwiki/enwiki-20180620-pages-meta-current26-p39567203p41067203.xml_art.csv.gz\n",
      "Data/enwiki/enwiki-20180620-pages-meta-current26-p41067203p42567203.xml_art.csv.gz\n",
      "Data/enwiki/enwiki-20180620-pages-meta-current26-p42567203p42663461.xml_art.csv.gz\n",
      "Data/enwiki/enwiki-20180620-pages-meta-current27-p42663462p44163462.xml_art.csv.gz\n",
      "Data/enwiki/enwiki-20180620-pages-meta-current27-p44163462p45663462.xml_art.csv.gz\n",
      "Data/enwiki/enwiki-20180620-pages-meta-current27-p45663462p47163462.xml_art.csv.gz\n",
      "Data/enwiki/enwiki-20180620-pages-meta-current27-p47163462p48663462.xml_art.csv.gz\n",
      "Data/enwiki/enwiki-20180620-pages-meta-current27-p48663462p50163462.xml_art.csv.gz\n",
      "Data/enwiki/enwiki-20180620-pages-meta-current27-p50163462p51663462.xml_art.csv.gz\n",
      "Data/enwiki/enwiki-20180620-pages-meta-current27-p51663462p53163462.xml_art.csv.gz\n",
      "Data/enwiki/enwiki-20180620-pages-meta-current27-p53163462p54663462.xml_art.csv.gz\n",
      "Data/enwiki/enwiki-20180620-pages-meta-current27-p54663462p56163462.xml_art.csv.gz\n",
      "Data/enwiki/enwiki-20180620-pages-meta-current27-p56163462p57663462.xml_art.csv.gz\n",
      "Data/enwiki/enwiki-20180620-pages-meta-current27-p57663462p57726175.xml_art.csv.gz\n"
     ]
    }
   ],
   "source": [
    "for fn in ENWIKI_ART_FNMS:\n",
    "    fn = PATH_TO_DATA_EN+fn\n",
    "    print(fn)\n",
    "    fn_new = unpack(fn)\n",
    "    df_articles = pd.read_csv(fn_new, encoding='ISO-8859-1', quotechar=\"\\\"\")\n",
    "    df_articles = pd.merge(df_articles, df_id_name, how='left', left_on=['link_val'], right_on=['title'])\n",
    "    df_articles = df_articles[['id_x', 'id_y', 'link_pos', 'link_val', 'link_txt']]\n",
    "    df_articles.columns = ['id', 'link_id', 'link_pos', 'link_val', 'link_text']\n",
    "    df_articles[['link_id']] = df_articles[['link_id']].fillna(-1).astype(int)\n",
    "    df_articles[['link_pos']] = df_articles[['link_pos']].fillna(-1).astype(int)\n",
    "    df_articles['is_red_link'] = np.where(df_articles['link_id'] == -1, True, False)\n",
    "    df_articles.to_csv(fn_new, index = False, encoding='ISO-8859-1', quotechar=\"'\", \n",
    "                       escapechar =\"\\\\\", quoting=csv.QUOTE_NONNUMERIC)\n",
    "    pack_and_remove(fn_new)"
   ]
  },
  {
   "cell_type": "code",
   "execution_count": 10,
   "metadata": {},
   "outputs": [],
   "source": [
    "UKWIKI_ART_FNMS = []\n",
    "for file in os.listdir(PATH_TO_DATA_UK):\n",
    "    if re.match(r\"ukwiki-20180620-pages-meta-current\\d{2}-p\\d+p\\d+.xml_art.csv.gz\", file):\n",
    "        UKWIKI_ART_FNMS.append(file)\n",
    "UKWIKI_RED_FNMS = []\n",
    "for file in os.listdir(PATH_TO_DATA_UK):\n",
    "    if re.match(r\"ukwiki-20180620-pages-meta-current\\d{2}-p\\d+p\\d+.xml_red.csv.gz\", file):\n",
    "        UKWIKI_RED_FNMS.append(file)   "
   ]
  },
  {
   "cell_type": "code",
   "execution_count": 89,
   "metadata": {},
   "outputs": [
    {
     "name": "stdout",
     "output_type": "stream",
     "text": [
      "Data/ukwiki/ukwiki-20180620-pages-meta-current01-p1p5501930.xml_art.csv.gz\n"
     ]
    },
    {
     "name": "stderr",
     "output_type": "stream",
     "text": [
      "c:\\users\\mgontar.artfulbits\\appdata\\local\\continuum\\anaconda3\\envs\\p2tw\\lib\\site-packages\\IPython\\core\\interactiveshell.py:2785: DtypeWarning: Columns (2) have mixed types. Specify dtype option on import or set low_memory=False.\n",
      "  interactivity=interactivity, compiler=compiler, result=result)\n"
     ]
    },
    {
     "name": "stdout",
     "output_type": "stream",
     "text": [
      "df_id_name size: (195092, 2)\n",
      "Data/ukwiki/ukwiki-20180620-pages-meta-current02-p5501931p11003859.xml_art.csv.gz\n",
      "df_id_name size: (426151, 2)\n",
      "Data/ukwiki/ukwiki-20180620-pages-meta-current03-p11003860p16505788.xml_art.csv.gz\n",
      "df_id_name size: (639780, 2)\n",
      "Data/ukwiki/ukwiki-20180620-pages-meta-current04-p16505789p22007717.xml_art.csv.gz\n",
      "df_id_name size: (796717, 2)\n"
     ]
    }
   ],
   "source": [
    "df_id_name = None\n",
    "for fn in UKWIKI_ART_FNMS:\n",
    "    fn = PATH_TO_DATA_UK+fn\n",
    "    print(fn)\n",
    "    fn_new = unpack(fn)\n",
    "    df_articles = pd.read_csv(fn_new, encoding='UTF-8', quotechar=\"\\\"\")\n",
    "    df_id_name_tmp = df_articles[['id', 'title']].drop_duplicates()\n",
    "    #print(\"df_id_name_tmp size: {}\".format(df_id_name_tmp.shape))\n",
    "    if df_id_name is not None:\n",
    "        df_id_name = df_id_name.append(df_id_name_tmp)        \n",
    "        #print(\"append\")\n",
    "    else:\n",
    "        df_id_name = df_id_name_tmp\n",
    "        #print(\"assign\")\n",
    "    print(\"df_id_name size: {}\".format(df_id_name.shape))\n",
    "    os.remove(fn_new)\n",
    "df_id_name = df_id_name.drop_duplicates()\n",
    "df_id_name.to_csv(PATH_TO_DATA_UK+'ukwiki-20180620-id_name.csv', index = False, encoding='UTF-8', quotechar=\"\\\"\")"
   ]
  },
  {
   "cell_type": "code",
   "execution_count": 11,
   "metadata": {},
   "outputs": [],
   "source": [
    "df_id_name = pd.read_csv(PATH_TO_DATA_UK+'ukwiki-20180620-id_name.csv',  encoding='UTF-8', quotechar=\"\\\"\")"
   ]
  },
  {
   "cell_type": "code",
   "execution_count": 12,
   "metadata": {},
   "outputs": [
    {
     "name": "stdout",
     "output_type": "stream",
     "text": [
      "Data/ukwiki/ukwiki-20180620-pages-meta-current01-p1p5501930.xml_art.csv.gz\n"
     ]
    },
    {
     "name": "stderr",
     "output_type": "stream",
     "text": [
      "c:\\users\\mgontar.artfulbits\\appdata\\local\\continuum\\anaconda3\\envs\\p2tw\\lib\\site-packages\\IPython\\core\\interactiveshell.py:2785: DtypeWarning: Columns (2) have mixed types. Specify dtype option on import or set low_memory=False.\n",
      "  interactivity=interactivity, compiler=compiler, result=result)\n"
     ]
    },
    {
     "name": "stdout",
     "output_type": "stream",
     "text": [
      "Data/ukwiki/ukwiki-20180620-pages-meta-current02-p5501931p11003859.xml_art.csv.gz\n",
      "Data/ukwiki/ukwiki-20180620-pages-meta-current03-p11003860p16505788.xml_art.csv.gz\n",
      "Data/ukwiki/ukwiki-20180620-pages-meta-current04-p16505789p22007717.xml_art.csv.gz\n"
     ]
    }
   ],
   "source": [
    "for fn in UKWIKI_ART_FNMS:\n",
    "    fn = PATH_TO_DATA_UK+fn\n",
    "    print(fn)\n",
    "    fn_new = unpack(fn)\n",
    "    df_articles = pd.read_csv(fn_new, encoding='UTF-8', quotechar=\"\\\"\")\n",
    "    df_articles = pd.merge(df_articles, df_id_name, how='left', left_on=['link_val'], right_on=['title'])\n",
    "    df_articles = df_articles[['id_x', 'id_y', 'link_pos', 'link_val', 'link_txt']]\n",
    "    df_articles.columns = ['id', 'link_id', 'link_pos', 'link_val', 'link_text']\n",
    "    df_articles[['link_id']] = df_articles[['link_id']].fillna(-1).astype(int)\n",
    "    df_articles[['link_pos']] = df_articles[['link_pos']].fillna(-1).astype(int)\n",
    "    df_articles['is_red_link'] = np.where(df_articles['link_id'] == -1, True, False)\n",
    "    df_articles.to_csv(fn_new, index = False, encoding='UTF-8', quotechar=\"\\\"\")\n",
    "    pack_and_remove(fn_new)"
   ]
  },
  {
   "cell_type": "code",
   "execution_count": 90,
   "metadata": {},
   "outputs": [],
   "source": [
    "df_id_name = pd.read_csv(PATH_TO_DATA_EN+'enwiki-20180620-id_name.csv', encoding='ISO-8859-1', quotechar=\"'\", escapechar =\"\\\\\")"
   ]
  },
  {
   "cell_type": "code",
   "execution_count": null,
   "metadata": {},
   "outputs": [],
   "source": [
    "fn = PATH_TO_DATA_UK+'ukwiki-20180620-langlinks_en.csv.gz'\n",
    "print(fn)\n",
    "fn_new = unpack(fn)\n",
    "df_uk_en_links = pd.read_csv(fn_new, encoding='ISO-8859-1', quotechar=\"'\")\n",
    "df_uk_en_links = pd.merge(df_uk_en_links, df_id_name, how='left', left_on=['ll_title'], right_on=['title'])"
   ]
  },
  {
   "cell_type": "code",
   "execution_count": 96,
   "metadata": {},
   "outputs": [
    {
     "name": "stderr",
     "output_type": "stream",
     "text": [
      "c:\\users\\mgontar.artfulbits\\appdata\\local\\continuum\\anaconda3\\envs\\p2tw\\lib\\site-packages\\pandas\\core\\frame.py:3140: SettingWithCopyWarning: \n",
      "A value is trying to be set on a copy of a slice from a DataFrame.\n",
      "Try using .loc[row_indexer,col_indexer] = value instead\n",
      "\n",
      "See the caveats in the documentation: http://pandas.pydata.org/pandas-docs/stable/indexing.html#indexing-view-versus-copy\n",
      "  self[k1] = value[k2]\n"
     ]
    },
    {
     "data": {
      "text/plain": [
       "'Data/ukwiki/ukwiki-20180620-langlinks_en.csv.gz'"
      ]
     },
     "execution_count": 96,
     "metadata": {},
     "output_type": "execute_result"
    }
   ],
   "source": [
    "df_uk_en_links = df_uk_en_links[['ll_from', 'id']]\n",
    "df_uk_en_links.columns = ['id_uk', 'id_en']\n",
    "df_uk_en_links[['id_uk']] = df_uk_en_links[['id_uk']].fillna(-1).astype(int)\n",
    "df_uk_en_links[['id_en']] = df_uk_en_links[['id_en']].fillna(-1).astype(int)\n",
    "df_uk_en_links.to_csv(PATH_TO_DATA_UK+'20180620-langlinks_uk_en.csv', index = False, encoding='ISO-8859-1', quotechar=\"'\", \n",
    "                       escapechar =\"\\\\\", quoting=csv.QUOTE_NONNUMERIC)\n",
    "pack_and_remove(fn_new)"
   ]
  }
 ],
 "metadata": {
  "kernelspec": {
   "display_name": "Python 3",
   "language": "python",
   "name": "python3"
  },
  "language_info": {
   "codemirror_mode": {
    "name": "ipython",
    "version": 3
   },
   "file_extension": ".py",
   "mimetype": "text/x-python",
   "name": "python",
   "nbconvert_exporter": "python",
   "pygments_lexer": "ipython3",
   "version": "3.6.6"
  }
 },
 "nbformat": 4,
 "nbformat_minor": 2
}
